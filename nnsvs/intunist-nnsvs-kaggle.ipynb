{
 "cells": [
  {
   "cell_type": "markdown",
   "metadata": {},
   "source": [
    "Intunist's notebook for NNSVS rapid prototyping. **_(Kaggle/Google Cloud version)_**\n",
    "<br/>Intended for team use only. **No external support** provided if anything is non-functional.\n",
    "\n",
    "Copying and modifying this notebook is **not permitted**.\n",
    "\n",
    "TEAM MEMBERS: **commit your version and the model will be ready to download after execution finish**"
   ]
  },
  {
   "cell_type": "code",
   "execution_count": null,
   "metadata": {
    "cellView": "form",
    "tags": []
   },
   "outputs": [],
   "source": [
    "#Install NNSVS\n",
    "%mkdir /content\n",
    "%cd -q /content\n",
    "!git clone https://github.com/intunist/ETK.git ETK &> /dev/null\n",
    "!bash /content/ETK/train/install.sh\n",
    "!ln -sf /content/ETK/train/conf/train/acoustic/model/acoustic_conv1dresnet.yaml /content/ETK/train/conf/train/acoustic/model/acoustic_current.yaml &> /dev/null\n",
    "!ln -sf /content/ETK/train/conf/train/acoustic/model/acoustic_current.yaml ACOUSTIC_SETTINGS.yaml &> /dev/null"
   ]
  },
  {
   "cell_type": "code",
   "execution_count": null,
   "metadata": {
    "cellView": "form",
    "tags": []
   },
   "outputs": [],
   "source": [
    "#Download file from google drive\n",
    "%cd /content\n",
    "!gdown https://drive.google.com/uc?id="
   ]
  },
  {
   "cell_type": "code",
   "execution_count": null,
   "metadata": {
    "cellView": "form",
    "tags": []
   },
   "outputs": [],
   "source": [
    "#Decompress dataset\n",
    "empty_dataset_folder = False \n",
    "compressed_dataset_path = \"/content/dataset.*\" \n",
    "\n",
    "if empty_dataset_folder == True:\n",
    "  !rm -rf /content/ETK/singing_database\n",
    "\n",
    "!7za  -bso0 -y x \"$compressed_dataset_path\" -o/content/ETK/singing_database/\n",
    "print('\\nDone!')"
   ]
  },
  {
   "cell_type": "code",
   "execution_count": null,
   "metadata": {
    "cellView": "form",
    "tags": []
   },
   "outputs": [],
   "source": [
    "#Alternative: Extract dump.\n",
    "#To save time, you can do feature extraction (stage 1) and unpack it.\n",
    "#ResF0 and non-ResF0 models need separate dumps.\n",
    "compressed_dump_path = \"/content/dump.*\"\n",
    "#Files will be extracted to `ETK/train/dump/`. The archived folder needs to match the singer name.\n",
    "\n",
    "!7za  -bso0 -y x \"$compressed_dump_path\" -o/content/ETK/train/dump/\n",
    "print('\\nDone!')"
   ]
  },
  {
   "cell_type": "markdown",
   "metadata": {
    "tags": []
   },
   "source": [
    "#Configure NNSVS\n",
    "---"
   ]
  },
  {
   "cell_type": "code",
   "execution_count": null,
   "metadata": {
    "cellView": "form",
    "tags": []
   },
   "outputs": [],
   "source": [
    "#@Change Language and model\n",
    "# Changing these settings will require you to run feature generation again.\n",
    "\n",
    "lang = \"Japanese\" # can be \"Japanese\", \"English\", \"Romance\", \"Polish\", or \"Custom\"\n",
    "singer_name = \"Unnamed_Singer\"\n",
    "# No spaces in singer_name. Use underscores `_`.\n",
    "\n",
    "# custom language settings\n",
    "custom_hed = \"custom.hed\"\n",
    "custom_table = \"custom.table\"\n",
    "\n",
    "model = \"Conv1dResnet\" # \"Conv1dResnet\", \"ResF0Conv1dResnet\", \"ResSkipF0FFConvLSTM\", \"ResF0VariancePredictor\", \"ResF0NonAttentiveTacotron\"\n",
    "use_mdn = False\n",
    "# No MDN for tacotron. Don't use below 1hr of data.\n",
    "\n",
    "#only suppoort sine vibrato\n",
    "vibrato = \"none\" # \"none\" or \"sine\". no \"diff\" support.\n",
    "# might require ResF0\n",
    "\n",
    "sample_rate = \"44100\" # \"44100\" or \"48000\"\n",
    "\n",
    "d4c_threshold = 0.25 # 0.00 - 1.00\n",
    "\n",
    "# so the notebook is more likely to work on Jupyter.\n",
    "import importlib\n",
    "nnsvs_path = importlib.util.find_spec(\"nnsvs\")\n",
    "nnsvs_path = nnsvs_path.submodule_search_locations[0]\n",
    "print(\"NNSVS location: \" + nnsvs_path)\n",
    "\n",
    "def get_vowels():\n",
    "  import subprocess\n",
    "  vowels = subprocess.getoutput('sed -n -r \\'s/^.*(\"C-Vowel\"|\"C-Vowels\"|\"C-Phone_Boin\")\\s+//p\\' /content/ETK/train/hed/'+hed_file)\n",
    "  junk = ['{', '}', '-', '+', '*']\n",
    "  table = str.maketrans('', '', ''.join(junk))\n",
    "  vowels = vowels.translate(table)\n",
    "  vowels = vowels.replace(\",\",\"', '\")\n",
    "  print(\"Vowels: \" + \"'\" + vowels + \"'\")\n",
    "  !sed -i -r \"s|(VOWELS = )(.+)|\\1'{vowels}'|g\" /content/ETK/train/stage0/compare_mono_align_and_mono_score.py\n",
    "    \n",
    "def get_in_dim():\n",
    "    in_dim = 0\n",
    "    with open(\"/content/ETK/train/hed/\"+hed_file,'r') as site:\n",
    "        for line in site.readlines():\n",
    "            if line.startswith(('QS', 'CQS')):\n",
    "                in_dim = in_dim + 1          \n",
    "    acoustic_in_dim = in_dim + int(4)\n",
    "    print(\"in_dim:\", + in_dim)\n",
    "    print(\"acoustic_in_dim:\", + acoustic_in_dim)\n",
    "    !sed -i -r 's|(in_dim:)(\\s+)(.+)|\\1\\2{in_dim}|g' /content/ETK/train/conf/train/timelag/model/timelag_mdnv2.yaml\n",
    "    !sed -i -r 's|(in_dim:)(\\s+)(.+)|\\1\\2{in_dim}|g' /content/ETK/train/conf/train/duration/model/duration_mdnv2.yaml\n",
    "    !sed -i -r 's|(in_dim:)(\\s+)(.+)|\\1\\2{acoustic_in_dim}|g' /content/ETK/train/conf/train/acoustic/model/acoustic_current.yaml\n",
    "\n",
    "def get_idx():\n",
    "    from nnmnkwii.io import hts\n",
    "    binary_dict, continuous_dict = hts.load_question_set(\"/content/ETK/train/hed/\" + hed_file)\n",
    "    for n in range(len(binary_dict)):\n",
    "        if binary_dict[n][0] in (\"C-Silence\", \"C-Silences\", \"C-Phone_Muon\"):\n",
    "            in_rest_idx = n\n",
    "            print(\"in_rest_idx:\", in_rest_idx)\n",
    "            !sed -i -r 's|(in_rest_idx:)(\\s+)(.+)|\\1\\2{in_rest_idx}|g' /content/ETK/train/conf/train/acoustic/data/myconfig.yaml\n",
    "    for n in range(len(continuous_dict)):\n",
    "        if continuous_dict[n][0] in (\"e1\", \"e1_absolute_pitch\"): # the absolute pitch of the current note \n",
    "            in_lf0_idx = n+  len(binary_dict)\n",
    "            print(\"in_lf0_idx:\", in_lf0_idx)\n",
    "            !sed -i -r 's|(in_lf0_idx:)(\\s+)(.+)|\\1\\2{in_lf0_idx}|g' /content/ETK/train/conf/train/acoustic/model/acoustic_current.yaml\n",
    "            !sed -i -r 's|(in_lf0_idx:)(\\s+)(.+)|\\1\\2{in_lf0_idx}|g' /content/ETK/train/conf/train/acoustic/data/myconfig.yaml\n",
    "\n",
    "!ln -sf /content/ETK/train/conf/train/acoustic/model/acoustic_{model.lower()}.yaml /content/ETK/train/conf/train/acoustic/model/acoustic_current.yaml &> /dev/null\n",
    "\n",
    "#These will pull the \"main\" branch for each language to reduce maintanance.\n",
    "if lang == \"Japanese\":\n",
    "    print(\"Switching to Intunist Japanese\")\n",
    "    hed_file = \"intunist_jp.hed\"\n",
    "    dic_file = \"intunist_jp.table\"\n",
    "elif lang == \"English\":\n",
    "    print(\"Switching to Intunist English\")\n",
    "    !git clone https://github.com/intunist/nnsvs-english-support lang-ext &> /dev/null\n",
    "    hed_file = \"intunist_en.hed\"\n",
    "    dic_file = \"blank.table\"\n",
    "elif lang == \"Romance\":\n",
    "    print(\"Switching to Legacy Romance Family Support\")\n",
    "    !git clone https://github.com/DYVAUX/nnsvs-romance-language-support lang-ext &> /dev/null\n",
    "    hed_file = \"DVX_lat.hed\"\n",
    "    dic_file = \"blank.table\"\n",
    "elif lang == \"CJK\":\n",
    "    print(\"Switching to Intunist CJK\")\n",
    "    hed_file = \"intunist_cjk.hed\"\n",
    "    dic_file = \"intunist_cjk.table\"\n",
    "    print(\"SELECTED LANGUAGE IS UNAVAILABLE\")\n",
    "elif lang == \"Chinese\":\n",
    "    print(\"Switching to Archivoice Chinese\")\n",
    "    !git clone https://github.com/Archivoice/nnsvs-chinese-support lang-ext &> /dev/null\n",
    "    hed_file = \"chinese.hed\"\n",
    "    dic_file = \"chinese.table\"\n",
    "elif lang == \"Polish\":\n",
    "    print(\"Switching to SzTP Polish\")\n",
    "    !git clone https://github.com/SzopaTatyJarka/nnsvs-polish-support lang-ext &> /dev/null\n",
    "    hed_file = \"sztj_polish.hed\"\n",
    "    dic_file = \"sztj_polish_phoneme.table\"\n",
    "elif lang == \"Custom\":\n",
    "    print(\"Switching to Custom Language\")\n",
    "    hed_file = custom_hed\n",
    "    dic_file = custom_table\n",
    "!cp -r lang-ext/hed /content/ETK/train &> /dev/null\n",
    "!cp -r lang-ext/dic /content/ETK/train &> /dev/null\n",
    "!rm -rf lang-ext\n",
    "    \n",
    "get_in_dim()\n",
    "if lang == 'Japanese':\n",
    "  vowels = \"'a', 'i', 'u', 'e', 'o', 'A', 'I', 'U', 'E', 'O', 'N'\"\n",
    "  print(\"Vowels: \" + vowels)\n",
    "  !sed -i -r \"s|(VOWELS = )(.+)|\\1{vowels}|g\" /content/ETK/train/stage0/compare_mono_align_and_mono_score.py\n",
    "#elif lang == 'Custom':\n",
    "#  print(\"Vowels: \" + vowels)\n",
    "#  !sed -i -r \"s|(VOWELS = )(.+)|\\1{vowels}|g\" /content/ETK/train/stage0/compare_mono_align_and_mono_score.py\n",
    "else:\n",
    "  get_vowels()\n",
    "\n",
    "print(\"Acoustic model: \" + model)\n",
    "if model.startswith('Res'):\n",
    "    get_idx()\n",
    "    !sed -i -r 's|(relative_f0:)(\\s+)(.+)|\\1\\2false|g' /content/ETK/train/enuconfig.yaml\n",
    "    !sed -i -r 's|(relative_f0:)(\\s+)(.+)|\\1\\2false|g' {nnsvs_path}/bin/conf/prepare_features/acoustic/static_*.yaml\n",
    "    !sed -i -r 's|(out_lf0_idx:)(\\s+)(.+)|\\1\\2180|g' /content/ETK/train/conf/train/acoustic/data/myconfig.yaml\n",
    "    # change to nnsvs-train-resf0\n",
    "else:\n",
    "    # Set relative_f0 true static_deltadelta_* and enuconfig\n",
    "    # change to nnsvs-train\n",
    "    # set idx to null\n",
    "    !sed -i -r 's|(in_rest_idx:)(\\s+)(.+)|\\1\\2null|g' /content/ETK/train/conf/train/acoustic/data/myconfig.yaml\n",
    "    !sed -i -r 's|(in_lf0_idx:)(\\s+)(.+)|\\1\\2null|g' /content/ETK/train/conf/train/acoustic/model/acoustic_current.yaml\n",
    "    !sed -i -r 's|(in_lf0_idx:)(\\s+)(.+)|\\1\\2null|g' /content/ETK/train/conf/train/acoustic/data/myconfig.yaml\n",
    "    !sed -i -r 's|(out_lf0_idx:)(\\s+)(.+)|\\1\\2null|g' /content/ETK/train/conf/train/acoustic/data/myconfig.yaml\n",
    "\n",
    "#set vibrato\n",
    "print(\"Vibrato Mode: \"+ str(vibrato))\n",
    "if vibrato == \"none\":\n",
    "  !sed -i -r 's|(stream_sizes:)(\\s+)(.+)|\\1\\2\\[180, 3, 1, 15\\]|g' /content/ETK/train/conf/train/acoustic/model/acoustic_current.yaml\n",
    "  !sed -i -r 's|(has_dynamic_features:)(\\s+)(.+)|\\1\\2\\[true, true, false, true\\]|g' /content/ETK/train/conf/train/acoustic/model/acoustic_current.yaml\n",
    "  !sed -i -r 's|(out_dim:)(\\s+)(.+)|\\1\\2199|g' /content/ETK/train/conf/train/acoustic/model/acoustic_current.yaml\n",
    "  !sed -i -r 's|(vibrato_mode:)(\\s+)(.+)|\\1\\2none|g' {nnsvs_path}/bin/conf/prepare_features/acoustic/static_*.yaml\n",
    "  !sed -i -r 's|(acoustic_features:)(\\s+)(.+)|\\1\\2static_deltadelta|g' /content/ETK/train/config.yaml\n",
    "elif vibrato == \"diff\":\n",
    "  !sed -i -r 's|(stream_sizes:)(\\s+)(.+)|\\1\\2\\[180, 3, 1, 15, 3\\]|g' /content/ETK/train/conf/train/acoustic/model/acoustic_current.yaml\n",
    "  !sed -i -r 's|(has_dynamic_features:)(\\s+)(.+)|\\1\\2\\[true, true, false, true, true\\]|g' /content/ETK/train/conf/train/acoustic/model/acoustic_current.yaml\n",
    "  !sed -i -r 's|(out_dim:)(\\s+)(.+)|\\1\\2202|g' /content/ETK/train/conf/train/acoustic/model/acoustic_current.yaml\n",
    "  !sed -i -r 's|(vibrato_mode:)(\\s+)(.+)|\\1\\2diff|g' {nnsvs_path}/bin/conf/prepare_features/acoustic/static_*.yaml\n",
    "  !sed -i -r 's|(acoustic_features:)(\\s+)(.+)|\\1\\2static_deltadelta_diffvib|g' /content/ETK/train/config.yaml\n",
    "elif vibrato == \"sine\":\n",
    "  !sed -i -r 's|(stream_sizes:)(\\s+)(.+)|\\1\\2\\[180, 3, 1, 15, 6, 1\\]|g' /content/ETK/train/conf/train/acoustic/model/acoustic_current.yaml\n",
    "  !sed -i -r 's|(has_dynamic_features:)(\\s+)(.+)|\\1\\2\\[true, true, false, true, true, false\\]|g' /content/ETK/train/conf/train/acoustic/model/acoustic_current.yaml\n",
    "  !sed -i -r 's|(out_dim:)(\\s+)(.+)|\\1\\2206|g' /content/ETK/train/conf/train/acoustic/model/acoustic_current.yaml\n",
    "  !sed -i -r 's|(vibrato_mode:)(\\s+)(.+)|\\1\\2sine|g' {nnsvs_path}/bin/conf/prepare_features/acoustic/static_*.yaml\n",
    "  !sed -i -r 's|(acoustic_features:)(\\s+)(.+)|\\1\\2static_deltadelta_sinevib|g' /content/ETK/train/config.yaml\n",
    "\n",
    "print(\"MDN: \"+ str(use_mdn))\n",
    "if use_mdn:\n",
    "  !sed -i -r 's|(use_mdn:)(\\s+)(.+)|\\1\\2true|g' /content/ETK/train/conf/train/acoustic/model/acoustic_current.yaml\n",
    "else:\n",
    "  !sed -i -r 's|(use_mdn:)(\\s+)(.+)|\\1\\2false|g' /content/ETK/train/conf/train/acoustic/model/acoustic_current.yaml\n",
    "\n",
    "#set samplerate\n",
    "print(\"Sample Rate: \"+ str(sample_rate))\n",
    "!sed -i -r 's|(sample_rate:)(\\s+)(.+)|\\1\\2{sample_rate}|g' /content/ETK/train/config.yaml\n",
    "!sed -i -r 's|(sample_rate:)(\\s+)(.+)|\\1\\2{sample_rate}|g' /content/ETK/train/enuconfig.yaml\n",
    "!sed -i -r 's|(sample_rate:)(\\s+)(.+)|\\1\\2{sample_rate}|g' /content/ETK/train/conf/train/acoustic/data/myconfig.yaml\n",
    "!sed -i -r 's|(sample_rate:)(\\s+)(.+)|\\1\\2{sample_rate}|g' /content/ETK/train/conf/train_postfilter/data/myconfig.yaml\n",
    "!sed -i -r 's|(sample_rate:)(\\s+)(.+)|\\1\\2{sample_rate}|g' /content/ETK/train/enuconfig.yaml\n",
    "!sed -i -r 's|(sample_rate:)(\\s+)(.+)|\\1\\2{sample_rate}|g' {nnsvs_path}/bin/conf/prepare_features/acoustic/static_*.yaml\n",
    "\n",
    "#set d4c\n",
    "print(\"d4c threshold: \"+ str(d4c_threshold))\n",
    "!sed -i -r 's|(d4c_threshold:)(\\s+)(.+)|\\1\\2{d4c_threshold}|g' {nnsvs_path}/bin/conf/prepare_features/acoustic/static_*.yaml\n",
    "\n",
    "\n",
    "!sed -i -r 's|(question_path:)(\\s+)(.+)|\\1\\2hed/{hed_file}|g' /content/ETK/train/enuconfig.yaml\n",
    "!sed -i -r 's|(table_path:)(\\s+)(.+)|\\1\\2dic/{dic_file}|g' /content/ETK/train/config.yaml\n",
    "!sed -i -r 's|(question_path:)(\\s+)(.+)|\\1\\2hed/{hed_file}|g' /content/ETK/train/config.yaml\n",
    "!sed -i -r 's|(table_path:)(\\s+)(.+)|\\1\\2dic/{dic_file}|g' /content/ETK/train/enuconfig.yaml\n"
   ]
  },
  {
   "cell_type": "code",
   "execution_count": null,
   "metadata": {
    "cellView": "form",
    "tags": []
   },
   "outputs": [],
   "source": [
    "# Set parameters\n",
    "# Commiting to kaggles doesn't allow you to edit settings. Set in this cell.\n",
    "# These Settings here can be changed without re-running feature generation.\n",
    "\n",
    "pretrained_expdir = \"\"\n",
    "#Ex: `exp/singer_name/`.\n",
    "\n",
    "disable_checkpoints = True\n",
    "\n",
    "acoustic_epochs = 80\n",
    "acoustic_loss = \"mae\" # \"mse\" or \"mae\"\n",
    "\n",
    "# The notebook uses MDNv2 by default with optimal settings. Choose desired number of epochs.\n",
    "duration_epochs = 200\n",
    "timelag_epochs = 200 \n",
    "\n",
    "pitch_reg_weight = 0.1\n",
    "\n",
    "!sed -i -r '/#/!s|(pretrained_expdir:)(.*)|\\1 \"{pretrained_expdir}\"|g' /content/ETK/train/config.yaml\n",
    "\n",
    "#set the epoch count\n",
    "import math\n",
    "!sed -i -r 's|(nepochs:)(\\s+)(.+)|\\1\\2{acoustic_epochs}|g' /content/ETK/train/conf/train/acoustic/train/myconfig.yaml\n",
    "acoustic_checkpoint_interval = acoustic_epochs * 0.15\n",
    "acoustic_checkpoint_interval_trunc = math.trunc(acoustic_checkpoint_interval)\n",
    "acoustic_checkpoint_interval_trunc_min = min(acoustic_checkpoint_interval_trunc, 80)\n",
    "if disable_checkpoints:\n",
    "  acoustic_checkpoint_interval = 999999\n",
    "!sed -i -r 's|(checkpoint_epoch_interval:)(\\s+)(.+)|\\1\\2{acoustic_checkpoint_interval_trunc_min}|g' /content/ETK/train/conf/train/acoustic/train/myconfig.yaml\n",
    "#\n",
    "!sed -i -r 's|(nepochs:)(\\s+)(.+)|\\1\\2{duration_epochs}|g' /content/ETK/train/conf/train/duration/train/myconfig.yaml\n",
    "duration_checkpoint_interval = duration_epochs * 0.15\n",
    "duration_checkpoint_interval_trunc = math.trunc(duration_checkpoint_interval)\n",
    "duration_checkpoint_interval_trunc_min = min(duration_checkpoint_interval_trunc, 80)\n",
    "!sed -i -r 's|(checkpoint_epoch_interval:)(\\s+)(.+)|\\1\\2{duration_checkpoint_interval_trunc_min}|g' /content/ETK/train/conf/train/duration/train/myconfig.yaml\n",
    "#\n",
    "!sed -i -r 's|(nepochs:)(\\s+)(.+)|\\1\\2{timelag_epochs}|g' /content/ETK/train/conf/train/timelag/train/myconfig.yaml\n",
    "timelag_checkpoint_interval = timelag_epochs * 0.15\n",
    "timelag_checkpoint_interval_trunc = math.trunc(timelag_checkpoint_interval)\n",
    "timelag_checkpoint_interval_trunc_min = min(timelag_checkpoint_interval_trunc, 80)\n",
    "!sed -i -r 's|(checkpoint_epoch_interval:)(\\s+)(.+)|\\1\\2{timelag_checkpoint_interval_trunc_min}|g' /content/ETK/train/conf/train/timelag/train/myconfig.yaml\n",
    "\n",
    "!sed -i -r 's|(feats_criterion:)(\\s+)(.+)|\\1\\2{acoustic_loss}|g' /content/ETK/train/conf/train/acoustic/train/myconfig.yaml\n",
    "!sed -i -r 's|(pitch_reg_weight:)(\\s+)(.+)|\\1\\2{pitch_reg_weight}|g' /content/ETK/train/conf/train/acoustic/train/myconfig.yaml\n",
    "\n",
    "print(\"Values set\")"
   ]
  },
  {
   "cell_type": "markdown",
   "metadata": {
    "tags": []
   },
   "source": [
    "#Training Steps\n",
    "---"
   ]
  },
  {
   "cell_type": "code",
   "execution_count": null,
   "metadata": {
    "cellView": "form",
    "tags": []
   },
   "outputs": [],
   "source": [
    "#@title Main Training\n",
    "\n",
    "starting_stage = 0\n",
    "stopping_stage = 5\n",
    "\n",
    "!sed -i -r 's|(spk:)(\\s+)(.+)|\\1\\2{singer_name}|g' /content/ETK/train/config.yaml\n",
    "!sed -i -r 's|(model_dir:)(\\s+)(.+)|\\1\\2exp/{singer_name}\\_intunist_prototyping_notebook|g' /content/ETK/train/enuconfig.yaml\n",
    "!sed -i -r 's|(stats_dir:)(\\s+)(.+)|\\1\\2dump/{singer_name}/norm|g' /content/ETK/train/enuconfig.yaml\n",
    "\n",
    "%cd \"/content/ETK/train\"\n",
    "if model.startswith('Res'):\n",
    "    !bash run_resf0.sh --stage $starting_stage --stop_stage $stopping_stage\n",
    "else:\n",
    "    !bash run.sh --stage $starting_stage --stop_stage $stopping_stage"
   ]
  },
  {
   "cell_type": "markdown",
   "metadata": {
    "tags": []
   },
   "source": [
    "#Advanced Training\n",
    "---"
   ]
  },
  {
   "cell_type": "code",
   "execution_count": null,
   "metadata": {
    "cellView": "form",
    "tags": []
   },
   "outputs": [],
   "source": [
    "# Train mgc and bap postfilters\n",
    "# The postfilters need to be trained separately. Stage 6 only needs to be run once.\n",
    "starting_stage = 0 # set to 6\n",
    "stopping_stage = 0 # set to 8\n",
    "\n",
    "%cd -q \"/content/ETK/train\"\n",
    "if starting_stage <= 6 and stopping_stage >= 6:\n",
    "  !bash run.sh --stage 6 --stop_stage 6 --acoustic-model acoustic\n",
    "if starting_stage <= 7 and stopping_stage >= 7:\n",
    "  print(\"training MGC postfilter for \" + singer_name + \"\\n\")\n",
    "  !bash run.sh --stage 7 --stop_stage 7 --acoustic-model acoustic --postfilter-model postfilter_mgc --postfilter-train mgc\n",
    "if starting_stage <= 8 and stopping_stage >= 8:\n",
    "  print(\"training BAP postfilter for \" + singer_name + \"\\n\")\n",
    "  !bash run.sh --stage 7 --stop_stage 7 --acoustic-model acoustic --postfilter-model postfilter_bap --postfilter-train bap\n",
    "\n",
    "# LF0 post filter is not in NNSVS at the time of writing.\n",
    "\n",
    "#if starting_stage <= 9 and stopping_stage >= 9:\n",
    "#  print(\"training lF0 postfilter for \" + singer_name + \"\\n\")\n",
    "#  !bash run.sh --stage 7 --stop_stage 7 --acoustic-model acoustic --postfilter-model postfilter_lf0 --postfilter-train lf0"
   ]
  },
  {
   "cell_type": "code",
   "execution_count": null,
   "metadata": {
    "cellView": "form",
    "tags": []
   },
   "outputs": [],
   "source": [
    "# Merge the postfilters\n",
    "# Postfilter training may not work for non-Japanese models.\n",
    "\n",
    "%cd -q \"/content/ETK/train\"\n",
    "!python scripts/merge_postfilters.py exp/{singer_name}_intunist_prototyping_notebook/postfilter_mgc/best_loss.pth \\\n",
    "    exp/{singer_name}_intunist_prototyping_notebook/postfilter_bap/best_loss.pth \\\n",
    "    exp/{singer_name}_intunist_prototyping_notebook/postfilter_merged"
   ]
  },
  {
   "cell_type": "code",
   "execution_count": null,
   "metadata": {
    "cellView": "form",
    "tags": []
   },
   "outputs": [],
   "source": [
    "#@title Train vocoder (not set up yet!)\n",
    "# Training NSF may take several days.\n",
    "print(\"this doesn't do anything, sorry!\")\n",
    "\n",
    "#print(\"training vocoder for \" + singer_name)\n",
    "#starting_stage = 8 \n",
    "#stopping_stage = 10 \n",
    "\n",
    "#%cd \"/content/ETK/train\"\n",
    "#!bash run.sh --stage $starting_stage --stop_stage $stopping_stage"
   ]
  },
  {
   "cell_type": "markdown",
   "metadata": {
    "tags": []
   },
   "source": [
    "#Release\n",
    "---"
   ]
  },
  {
   "cell_type": "code",
   "execution_count": null,
   "metadata": {
    "cellView": "form",
    "tags": []
   },
   "outputs": [],
   "source": [
    "# Run release step and package voice\n",
    "\n",
    "delete_checkpoint = True \n",
    "#`delete_checkpoint` deletes extra checkpoints to reduce singer size. Does not affect quality.\n",
    "\n",
    "print(\"Packaging \" + singer_name)\n",
    "%cd \"/content/ETK/train\"\n",
    "!bash run.sh --stage 12 --stop_stage 12\n",
    "\n",
    "import subprocess\n",
    "time = subprocess.getoutput('date +%y%m%d-%H%M-UTC')\n",
    "\n",
    "if delete_checkpoint:\n",
    "    %rm -f /content/ETK/train/release/{singer_name}_---/exp/{singer_name}_intunist_prototyping_notebook/*/checkpoint*\n",
    "    %rm -f /content/ETK/train/release/{singer_name}_---/exp/{singer_name}_intunist_prototyping_notebook/*/epoch*\n",
    "\n",
    "%cd -q \"/content/ETK/train/release/\"\n",
    "print('\\033[97;100m' + 'Compressing Model' + '\\033[0m')\n",
    "!7za -bso0 a \"/kaggle/working/{singer_name}_NNSVS_model_{time}.7z\" \"{singer_name}_---\"\n",
    "    print('Done!')"
   ]
  }
 ],
 "metadata": {
  "kernelspec": {
   "display_name": "Python 3 (ipykernel)",
   "language": "python",
   "name": "python3"
  },
  "language_info": {
   "codemirror_mode": {
    "name": "ipython",
    "version": 3
   },
   "file_extension": ".py",
   "mimetype": "text/x-python",
   "name": "python",
   "nbconvert_exporter": "python",
   "pygments_lexer": "ipython3",
   "version": "3.8.13"
  }
 },
 "nbformat": 4,
 "nbformat_minor": 4
}
